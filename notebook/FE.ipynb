{
 "cells": [
  {
   "cell_type": "code",
   "execution_count": 73,
   "metadata": {},
   "outputs": [
    {
     "name": "stdout",
     "output_type": "stream",
     "text": [
      "The lab_black extension is already loaded. To reload it, use:\n",
      "  %reload_ext lab_black\n",
      "The autoreload extension is already loaded. To reload it, use:\n",
      "  %reload_ext autoreload\n"
     ]
    }
   ],
   "source": [
    "%load_ext lab_black\n",
    "%load_ext autoreload\n",
    "%autoreload 2\n",
    "\n",
    "import os\n",
    "import pandas as pd\n",
    "import numpy as np\n",
    "\n",
    "os.chdir(\"../src/\")\n",
    "\n",
    "from dataset_util import Dataset\n",
    "from matplotlib import pyplot as plt\n",
    "import sys\n",
    "\n",
    "sys.path.append(\"/home/yanhuize/ml-utils\")\n",
    "from my_utils import reduce_mem_usage\n",
    "\n",
    "ds = Dataset()"
   ]
  },
  {
   "cell_type": "code",
   "execution_count": 74,
   "metadata": {},
   "outputs": [],
   "source": [
    "ds.train = pd.merge(ds.train, ds.label, on=\"sequence\")"
   ]
  },
  {
   "cell_type": "code",
   "execution_count": 75,
   "metadata": {},
   "outputs": [],
   "source": [
    "train = reduce_mem_usage(ds.train, verbose=False)"
   ]
  },
  {
   "cell_type": "markdown",
   "metadata": {},
   "source": [
    "加上那些好用的特征，，"
   ]
  },
  {
   "cell_type": "code",
   "execution_count": 76,
   "metadata": {},
   "outputs": [],
   "source": [
    "import scipy.stats\n",
    "\n",
    "\n",
    "def f(x):\n",
    "    return scipy.stats.kurtosis(x)\n",
    "\n",
    "\n",
    "train_pivoted0 = train.pivot(\n",
    "    index=[\"sequence\", \"subject\"], columns=\"step\", values=ds.sensor_cols\n",
    ")\n",
    "\n",
    "train_pivoted0[\"sensor_04_mean\"] = train_pivoted0.sensor04.mean(axis=1)\n",
    "train_pivoted0[\"sensor_02_std\"] = train_pivoted0.sensor02.std(axis=1)\n",
    "train_pivoted0[\"sensor_10_kurtosis\"] = scipy.stats.kurtosis(\n",
    "    train_pivoted0.sensor10, axis=1\n",
    ")\n",
    "train_pivoted0[\"sensor_04_kurtosis\"] = scipy.stats.kurtosis(\n",
    "    train_pivoted0.sensor04, axis=1\n",
    ")\n",
    "\n",
    "# train_pivoted0 = train_pivoted0.merge(ds.label, on=\"sequence\")"
   ]
  },
  {
   "cell_type": "code",
   "execution_count": 77,
   "metadata": {},
   "outputs": [
    {
     "data": {
      "text/html": [
       "<div>\n",
       "<style scoped>\n",
       "    .dataframe tbody tr th:only-of-type {\n",
       "        vertical-align: middle;\n",
       "    }\n",
       "\n",
       "    .dataframe tbody tr th {\n",
       "        vertical-align: top;\n",
       "    }\n",
       "\n",
       "    .dataframe thead th {\n",
       "        text-align: right;\n",
       "    }\n",
       "</style>\n",
       "<table border=\"1\" class=\"dataframe\">\n",
       "  <thead>\n",
       "    <tr style=\"text-align: right;\">\n",
       "      <th></th>\n",
       "      <th>sequence</th>\n",
       "      <th>subject</th>\n",
       "      <th>sensor_04_kurtosis</th>\n",
       "      <th>state</th>\n",
       "    </tr>\n",
       "  </thead>\n",
       "  <tbody>\n",
       "    <tr>\n",
       "      <th>0</th>\n",
       "      <td>0</td>\n",
       "      <td>47</td>\n",
       "      <td>-0.848722</td>\n",
       "      <td>0</td>\n",
       "    </tr>\n",
       "    <tr>\n",
       "      <th>1</th>\n",
       "      <td>1</td>\n",
       "      <td>66</td>\n",
       "      <td>3.536804</td>\n",
       "      <td>1</td>\n",
       "    </tr>\n",
       "    <tr>\n",
       "      <th>2</th>\n",
       "      <td>2</td>\n",
       "      <td>66</td>\n",
       "      <td>5.871299</td>\n",
       "      <td>1</td>\n",
       "    </tr>\n",
       "    <tr>\n",
       "      <th>3</th>\n",
       "      <td>3</td>\n",
       "      <td>542</td>\n",
       "      <td>-0.137156</td>\n",
       "      <td>1</td>\n",
       "    </tr>\n",
       "    <tr>\n",
       "      <th>4</th>\n",
       "      <td>4</td>\n",
       "      <td>437</td>\n",
       "      <td>-0.310099</td>\n",
       "      <td>1</td>\n",
       "    </tr>\n",
       "    <tr>\n",
       "      <th>...</th>\n",
       "      <td>...</td>\n",
       "      <td>...</td>\n",
       "      <td>...</td>\n",
       "      <td>...</td>\n",
       "    </tr>\n",
       "    <tr>\n",
       "      <th>25963</th>\n",
       "      <td>25963</td>\n",
       "      <td>558</td>\n",
       "      <td>0.413364</td>\n",
       "      <td>1</td>\n",
       "    </tr>\n",
       "    <tr>\n",
       "      <th>25964</th>\n",
       "      <td>25964</td>\n",
       "      <td>297</td>\n",
       "      <td>-1.000191</td>\n",
       "      <td>0</td>\n",
       "    </tr>\n",
       "    <tr>\n",
       "      <th>25965</th>\n",
       "      <td>25965</td>\n",
       "      <td>129</td>\n",
       "      <td>1.342628</td>\n",
       "      <td>1</td>\n",
       "    </tr>\n",
       "    <tr>\n",
       "      <th>25966</th>\n",
       "      <td>25966</td>\n",
       "      <td>170</td>\n",
       "      <td>0.719383</td>\n",
       "      <td>1</td>\n",
       "    </tr>\n",
       "    <tr>\n",
       "      <th>25967</th>\n",
       "      <td>25967</td>\n",
       "      <td>327</td>\n",
       "      <td>-0.987893</td>\n",
       "      <td>0</td>\n",
       "    </tr>\n",
       "  </tbody>\n",
       "</table>\n",
       "<p>25968 rows × 4 columns</p>\n",
       "</div>"
      ],
      "text/plain": [
       "       sequence  subject  sensor_04_kurtosis  state\n",
       "0             0       47           -0.848722      0\n",
       "1             1       66            3.536804      1\n",
       "2             2       66            5.871299      1\n",
       "3             3      542           -0.137156      1\n",
       "4             4      437           -0.310099      1\n",
       "...         ...      ...                 ...    ...\n",
       "25963     25963      558            0.413364      1\n",
       "25964     25964      297           -1.000191      0\n",
       "25965     25965      129            1.342628      1\n",
       "25966     25966      170            0.719383      1\n",
       "25967     25967      327           -0.987893      0\n",
       "\n",
       "[25968 rows x 4 columns]"
      ]
     },
     "execution_count": 77,
     "metadata": {},
     "output_type": "execute_result"
    }
   ],
   "source": [
    "train_pivoted0.sensor_04_kurtosis.reset_index().merge(ds.label, on=\"sequence\")"
   ]
  },
  {
   "cell_type": "code",
   "execution_count": 78,
   "metadata": {},
   "outputs": [
    {
     "data": {
      "text/plain": [
       "Int64Index([    0,     1,     2,     3,     4,     5,     6,     7,     8,\n",
       "                9,\n",
       "            ...\n",
       "            25958, 25959, 25960, 25961, 25962, 25963, 25964, 25965, 25966,\n",
       "            25967],\n",
       "           dtype='int64', name='sequence', length=25968)"
      ]
     },
     "execution_count": 78,
     "metadata": {},
     "output_type": "execute_result"
    }
   ],
   "source": [
    "train_pivoted0.sensor_04_kurtosis.index.get_level_values(0)"
   ]
  },
  {
   "cell_type": "code",
   "execution_count": 79,
   "metadata": {},
   "outputs": [],
   "source": [
    "def p(col):\n",
    "    temp = (\n",
    "        train_pivoted0[col]\n",
    "        .reset_index()\n",
    "        .merge(ds.label, on=\"sequence\")\n",
    "        .sort_values(col)\n",
    "    ).reset_index()\n",
    "    plt.scatter(x=temp.index, y=temp.state.rolling(1000).mean(), s=2)\n",
    "    plt.show()"
   ]
  },
  {
   "cell_type": "code",
   "execution_count": 80,
   "metadata": {},
   "outputs": [
    {
     "data": {
      "image/png": "[encoded data removed]",
      "text/plain": [
       "<Figure size 432x288 with 1 Axes>"
      ]
     },
     "metadata": {
      "needs_background": "light"
     },
     "output_type": "display_data"
    }
   ],
   "source": [
    "p(\"sensor_04_kurtosis\")"
   ]
  },
  {
   "cell_type": "code",
   "execution_count": 81,
   "metadata": {},
   "outputs": [
    {
     "data": {
      "image/png": "[encoded data removed]",
      "text/plain": [
       "<Figure size 432x288 with 1 Axes>"
      ]
     },
     "metadata": {
      "needs_background": "light"
     },
     "output_type": "display_data"
    }
   ],
   "source": [
    "p(\"sensor_04_mean\")"
   ]
  }
 ],
 "metadata": {
  "interpreter": {
   "hash": "e20769f5d2669d6e2de2d47180817e446f292e1798e706175ac5edb0ced70517"
  },
  "kernelspec": {
   "display_name": "Python 3.8.12 ('kaggle')",
   "language": "python",
   "name": "python3"
  },
  "language_info": {
   "codemirror_mode": {
    "name": "ipython",
    "version": 3
   },
   "file_extension": ".py",
   "mimetype": "text/x-python",
   "name": "python",
   "nbconvert_exporter": "python",
   "pygments_lexer": "ipython3",
   "version": "3.8.12"
  },
  "orig_nbformat": 4
 },
 "nbformat": 4,
 "nbformat_minor": 2
}
