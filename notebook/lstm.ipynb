{
 "cells": [
  {
   "cell_type": "code",
   "execution_count": 1,
   "metadata": {},
   "outputs": [
    {
     "name": "stderr",
     "output_type": "stream",
     "text": [
      "/opt/conda/envs/kaggle/lib/python3.8/site-packages/xgboost/compat.py:31: FutureWarning: pandas.Int64Index is deprecated and will be removed from pandas in a future version. Use pandas.Index with the appropriate dtype instead.\n",
      "  from pandas import MultiIndex, Int64Index\n"
     ]
    }
   ],
   "source": [
    "%load_ext lab_black\n",
    "%load_ext autoreload\n",
    "%autoreload 2\n",
    "\n",
    "import pandas as pd\n",
    "import numpy as np\n",
    "import matplotlib.pylab as plt\n",
    "import seaborn as sns\n",
    "from glob import glob\n",
    "import IPython.display as ipd\n",
    "from itertools import cycle\n",
    "from typing import TYPE_CHECKING\n",
    "from xgboost import XGBClassifier\n",
    "from sklearn.model_selection import train_test_split\n",
    "\n",
    "import sys\n",
    "\n",
    "sys.path.append(\"../src\")\n",
    "from Dataset import Dataset\n",
    "\n",
    "if TYPE_CHECKING:\n",
    "    plt.rcParams = {}\n",
    "color_pal = plt.rcParams[\"axes.prop_cycle\"].by_key()[\"color\"]\n",
    "color_cycle = cycle(plt.rcParams[\"axes.prop_cycle\"].by_key()[\"color\"])\n",
    "sns.set_theme(style=\"white\", palette=None)"
   ]
  },
  {
   "cell_type": "code",
   "execution_count": 95,
   "metadata": {},
   "outputs": [],
   "source": [
    "import tensorflow as tf\n",
    "from tensorflow import keras\n",
    "import typing\n",
    "from tensorflow import keras as k\n",
    "from sklearn.model_selection import train_test_split\n",
    "\n",
    "if typing.TYPE_CHECKING:\n",
    "    print(\"emmm\")\n",
    "    from keras.api._v2 import keras as k"
   ]
  },
  {
   "cell_type": "markdown",
   "metadata": {},
   "source": [
    "## 训练集\n",
    "* 每个 sequence 对应 60 行数据。 要根据这 60 行数据做分类。\n",
    "* 这 60 行是某个 subject 的 60 个 step。\n",
    "* 每个 step 有 13 个传感器值。"
   ]
  },
  {
   "cell_type": "markdown",
   "metadata": {},
   "source": [
    "## 试一下 lstm 的效果"
   ]
  },
  {
   "cell_type": "code",
   "execution_count": 34,
   "metadata": {},
   "outputs": [],
   "source": [
    "ds = Dataset()\n",
    "sensor_cols = [f\"sensor{i:02d}\" for i in range(13)]"
   ]
  },
  {
   "cell_type": "code",
   "execution_count": 16,
   "metadata": {},
   "outputs": [
    {
     "data": {
      "text/html": [
       "<div>\n",
       "<style scoped>\n",
       "    .dataframe tbody tr th:only-of-type {\n",
       "        vertical-align: middle;\n",
       "    }\n",
       "\n",
       "    .dataframe tbody tr th {\n",
       "        vertical-align: top;\n",
       "    }\n",
       "\n",
       "    .dataframe thead th {\n",
       "        text-align: right;\n",
       "    }\n",
       "</style>\n",
       "<table border=\"1\" class=\"dataframe\">\n",
       "  <thead>\n",
       "    <tr style=\"text-align: right;\">\n",
       "      <th></th>\n",
       "      <th>sequence</th>\n",
       "      <th>subject</th>\n",
       "      <th>step</th>\n",
       "      <th>sensor00</th>\n",
       "      <th>sensor01</th>\n",
       "      <th>sensor02</th>\n",
       "      <th>sensor03</th>\n",
       "      <th>sensor04</th>\n",
       "      <th>sensor05</th>\n",
       "      <th>sensor06</th>\n",
       "      <th>sensor07</th>\n",
       "      <th>sensor08</th>\n",
       "      <th>sensor09</th>\n",
       "      <th>sensor10</th>\n",
       "      <th>sensor11</th>\n",
       "      <th>sensor12</th>\n",
       "    </tr>\n",
       "  </thead>\n",
       "  <tbody>\n",
       "    <tr>\n",
       "      <th>0</th>\n",
       "      <td>0</td>\n",
       "      <td>47</td>\n",
       "      <td>0</td>\n",
       "      <td>-0.196291</td>\n",
       "      <td>0.112395</td>\n",
       "      <td>1.0</td>\n",
       "      <td>0.329204</td>\n",
       "      <td>-1.004660</td>\n",
       "      <td>-0.131638</td>\n",
       "      <td>-0.127505</td>\n",
       "      <td>0.368702</td>\n",
       "      <td>-0.1</td>\n",
       "      <td>-0.963873</td>\n",
       "      <td>-0.985069</td>\n",
       "      <td>0.531893</td>\n",
       "      <td>4.751492</td>\n",
       "    </tr>\n",
       "    <tr>\n",
       "      <th>1</th>\n",
       "      <td>0</td>\n",
       "      <td>47</td>\n",
       "      <td>1</td>\n",
       "      <td>-0.447450</td>\n",
       "      <td>0.134454</td>\n",
       "      <td>1.0</td>\n",
       "      <td>-0.658407</td>\n",
       "      <td>0.162495</td>\n",
       "      <td>0.340314</td>\n",
       "      <td>-0.209472</td>\n",
       "      <td>-0.867176</td>\n",
       "      <td>0.2</td>\n",
       "      <td>-0.301301</td>\n",
       "      <td>0.082733</td>\n",
       "      <td>-0.231481</td>\n",
       "      <td>0.454390</td>\n",
       "    </tr>\n",
       "    <tr>\n",
       "      <th>2</th>\n",
       "      <td>0</td>\n",
       "      <td>47</td>\n",
       "      <td>2</td>\n",
       "      <td>0.326893</td>\n",
       "      <td>-0.694328</td>\n",
       "      <td>1.0</td>\n",
       "      <td>0.330088</td>\n",
       "      <td>0.473678</td>\n",
       "      <td>1.280479</td>\n",
       "      <td>-0.094718</td>\n",
       "      <td>0.535878</td>\n",
       "      <td>1.4</td>\n",
       "      <td>1.002168</td>\n",
       "      <td>0.449221</td>\n",
       "      <td>-0.586420</td>\n",
       "      <td>-4.736147</td>\n",
       "    </tr>\n",
       "    <tr>\n",
       "      <th>3</th>\n",
       "      <td>0</td>\n",
       "      <td>47</td>\n",
       "      <td>3</td>\n",
       "      <td>0.523184</td>\n",
       "      <td>0.751050</td>\n",
       "      <td>1.0</td>\n",
       "      <td>0.976991</td>\n",
       "      <td>-0.563287</td>\n",
       "      <td>-0.720269</td>\n",
       "      <td>0.793260</td>\n",
       "      <td>0.951145</td>\n",
       "      <td>-0.3</td>\n",
       "      <td>-0.995665</td>\n",
       "      <td>-0.434290</td>\n",
       "      <td>1.344650</td>\n",
       "      <td>0.429241</td>\n",
       "    </tr>\n",
       "    <tr>\n",
       "      <th>4</th>\n",
       "      <td>0</td>\n",
       "      <td>47</td>\n",
       "      <td>4</td>\n",
       "      <td>0.272025</td>\n",
       "      <td>1.074580</td>\n",
       "      <td>1.0</td>\n",
       "      <td>-0.136283</td>\n",
       "      <td>0.398579</td>\n",
       "      <td>0.044877</td>\n",
       "      <td>0.560109</td>\n",
       "      <td>-0.541985</td>\n",
       "      <td>-0.9</td>\n",
       "      <td>1.055636</td>\n",
       "      <td>0.812631</td>\n",
       "      <td>0.123457</td>\n",
       "      <td>-0.223359</td>\n",
       "    </tr>\n",
       "  </tbody>\n",
       "</table>\n",
       "</div>"
      ],
      "text/plain": [
       "   sequence  subject  step  sensor00  sensor01  sensor02  sensor03  sensor04  \\\n",
       "0         0       47     0 -0.196291  0.112395       1.0  0.329204 -1.004660   \n",
       "1         0       47     1 -0.447450  0.134454       1.0 -0.658407  0.162495   \n",
       "2         0       47     2  0.326893 -0.694328       1.0  0.330088  0.473678   \n",
       "3         0       47     3  0.523184  0.751050       1.0  0.976991 -0.563287   \n",
       "4         0       47     4  0.272025  1.074580       1.0 -0.136283  0.398579   \n",
       "\n",
       "   sensor05  sensor06  sensor07  sensor08  sensor09  sensor10  sensor11  \\\n",
       "0 -0.131638 -0.127505  0.368702      -0.1 -0.963873 -0.985069  0.531893   \n",
       "1  0.340314 -0.209472 -0.867176       0.2 -0.301301  0.082733 -0.231481   \n",
       "2  1.280479 -0.094718  0.535878       1.4  1.002168  0.449221 -0.586420   \n",
       "3 -0.720269  0.793260  0.951145      -0.3 -0.995665 -0.434290  1.344650   \n",
       "4  0.044877  0.560109 -0.541985      -0.9  1.055636  0.812631  0.123457   \n",
       "\n",
       "   sensor12  \n",
       "0  4.751492  \n",
       "1  0.454390  \n",
       "2 -4.736147  \n",
       "3  0.429241  \n",
       "4 -0.223359  "
      ]
     },
     "execution_count": 16,
     "metadata": {},
     "output_type": "execute_result"
    }
   ],
   "source": [
    "ds.train.query(\"sequence == 0\").head()"
   ]
  },
  {
   "cell_type": "code",
   "execution_count": 33,
   "metadata": {},
   "outputs": [
    {
     "data": {
      "text/plain": [
       "['sensor00',\n",
       " 'sensor01',\n",
       " 'sensor02',\n",
       " 'sensor03',\n",
       " 'sensor04',\n",
       " 'sensor05',\n",
       " 'sensor06',\n",
       " 'sensor07',\n",
       " 'sensor08',\n",
       " 'sensor09',\n",
       " 'sensor10',\n",
       " 'sensor11',\n",
       " 'sensor12']"
      ]
     },
     "execution_count": 33,
     "metadata": {},
     "output_type": "execute_result"
    }
   ],
   "source": []
  },
  {
   "cell_type": "code",
   "execution_count": 36,
   "metadata": {},
   "outputs": [],
   "source": [
    "def lstm_model(timesteps, feature):\n",
    "    model = k.models.Sequential()\n",
    "    model.add(k.layers.Input(shape=(timesteps, feature)))\n",
    "    model.add(k.layers.LSTM(32))\n",
    "    model.add(k.layers.Dense(1, activation=\"sigmoid\"))\n",
    "    return model"
   ]
  },
  {
   "cell_type": "code",
   "execution_count": 42,
   "metadata": {},
   "outputs": [
    {
     "data": {
      "image/png": "[encoded data removed]",
      "text/plain": [
       "<IPython.core.display.Image object>"
      ]
     },
     "execution_count": 42,
     "metadata": {},
     "output_type": "execute_result"
    }
   ],
   "source": []
  },
  {
   "cell_type": "code",
   "execution_count": 109,
   "metadata": {},
   "outputs": [
    {
     "name": "stdout",
     "output_type": "stream",
     "text": [
      "Epoch 1/10\n",
      "649/649 [==============================] - 4s 5ms/step - loss: 0.6774 - accuracy: 0.0000e+00 - val_loss: 0.6537 - val_accuracy: 0.0000e+00\n",
      "Epoch 2/10\n",
      "649/649 [==============================] - 3s 4ms/step - loss: 0.6412 - accuracy: 0.0000e+00 - val_loss: 0.6245 - val_accuracy: 0.0000e+00\n",
      "Epoch 3/10\n",
      "649/649 [==============================] - 3s 4ms/step - loss: 0.6139 - accuracy: 0.0000e+00 - val_loss: 0.6013 - val_accuracy: 0.0000e+00\n",
      "Epoch 4/10\n",
      "649/649 [==============================] - 3s 4ms/step - loss: 0.5861 - accuracy: 0.0000e+00 - val_loss: 0.5759 - val_accuracy: 0.0000e+00\n",
      "Epoch 5/10\n",
      "649/649 [==============================] - 3s 4ms/step - loss: 0.5567 - accuracy: 0.0000e+00 - val_loss: 0.5453 - val_accuracy: 0.0000e+00\n",
      "Epoch 6/10\n",
      "649/649 [==============================] - 3s 4ms/step - loss: 0.5354 - accuracy: 0.0000e+00 - val_loss: 0.5332 - val_accuracy: 0.0000e+00\n",
      "Epoch 7/10\n",
      "649/649 [==============================] - 3s 4ms/step - loss: 0.5134 - accuracy: 0.0000e+00 - val_loss: 0.5165 - val_accuracy: 0.0000e+00\n",
      "Epoch 8/10\n",
      "649/649 [==============================] - 3s 4ms/step - loss: 0.4959 - accuracy: 0.0000e+00 - val_loss: 0.5018 - val_accuracy: 0.0000e+00\n",
      "Epoch 9/10\n",
      "649/649 [==============================] - 3s 4ms/step - loss: 0.4846 - accuracy: 0.0000e+00 - val_loss: 0.4936 - val_accuracy: 0.0000e+00\n",
      "Epoch 10/10\n",
      "649/649 [==============================] - 3s 4ms/step - loss: 0.4686 - accuracy: 0.0000e+00 - val_loss: 0.4727 - val_accuracy: 0.0000e+00\n"
     ]
    },
    {
     "data": {
      "text/plain": [
       "<keras.callbacks.History at 0x7fdd80ac1580>"
      ]
     },
     "execution_count": 109,
     "metadata": {},
     "output_type": "execute_result"
    }
   ],
   "source": [
    "timesteps = ds.train.sequence.value_counts()[0]\n",
    "feature = len(sensor_cols)\n",
    "model = lstm_model(timesteps, feature)\n",
    "\n",
    "k.utils.plot_model(model, show_shapes=True, show_layer_activations=True)\n",
    "\n",
    "model.compile(\n",
    "    optimizer=k.optimizers.Adam(),\n",
    "    loss=k.losses.BinaryCrossentropy(),\n",
    "    metrics=[k.metrics.BinaryAccuracy()],\n",
    ")\n",
    "\n",
    "\n",
    "X = ds.train[sensor_cols].values.reshape(-1, timesteps, 13)\n",
    "y = ds.label.state.values\n",
    "xy = tf.data.Dataset.from_tensor_slices((X, y)).batch(32).shuffle(32 * 4)\n",
    "\n",
    "L = int(len(xy) * 0.8)\n",
    "model.fit(\n",
    "    xy.take(L),\n",
    "    validation_data=xy.skip(L),\n",
    "    epochs=10,\n",
    ")"
   ]
  },
  {
   "cell_type": "code",
   "execution_count": 113,
   "metadata": {},
   "outputs": [],
   "source": [
    "preds = model.predict(ds.test[sensor_cols].values.reshape(-1, timesteps, 13))"
   ]
  },
  {
   "cell_type": "code",
   "execution_count": 115,
   "metadata": {},
   "outputs": [],
   "source": [
    "ds.submit_result(preds)"
   ]
  },
  {
   "cell_type": "code",
   "execution_count": null,
   "metadata": {},
   "outputs": [],
   "source": []
  }
 ],
 "metadata": {
  "interpreter": {
   "hash": "945b948c38fcc3d72575ed543bad02ace8aed93ed984c07347280e3a94ade85e"
  },
  "kernelspec": {
   "display_name": "Python 3.9.11 ('kaggle')",
   "language": "python",
   "name": "python3"
  },
  "language_info": {
   "codemirror_mode": {
    "name": "ipython",
    "version": 3
   },
   "file_extension": ".py",
   "mimetype": "text/x-python",
   "name": "python",
   "nbconvert_exporter": "python",
   "pygments_lexer": "ipython3",
   "version": "3.8.12"
  },
  "orig_nbformat": 4
 },
 "nbformat": 4,
 "nbformat_minor": 2
}
